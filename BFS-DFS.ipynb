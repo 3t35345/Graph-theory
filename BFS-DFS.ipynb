{
 "cells": [
  {
   "cell_type": "code",
   "execution_count": 10,
   "metadata": {},
   "outputs": [],
   "source": [
    "class GraphList:\n",
    "    \"\"\"\n",
    "    directed graph\n",
    "    \"\"\"\n",
    "\n",
    "    def __init__(self, n, directed=False):\n",
    "        self.V_count = n\n",
    "        self.E_count = 0\n",
    "        self.directed = directed\n",
    "        self.graph = [[] for _ in range(n)]\n",
    "\n",
    "    def add_edge(self, u, v):\n",
    "        self.graph[u].append(v)\n",
    "        self.E_count += 1\n",
    "        if not self.directed:\n",
    "            self.graph[v].append(u)\n",
    "\n",
    "    def print_graph(self):\n",
    "        for i in range(self.V_count):\n",
    "            print(i, \":\", self.graph[i])\n",
    "            \n",
    "    def get_edge_list(self):\n",
    "        edges = []\n",
    "        for i in range(self.V_count):\n",
    "            for j in self.graph[i]:\n",
    "                if (j, i) in edges or (i, j) in edges:\n",
    "                    continue\n",
    "                edges.append((i, j))\n",
    "        return edges"
   ]
  },
  {
   "cell_type": "code",
   "execution_count": 11,
   "metadata": {},
   "outputs": [],
   "source": [
    "g = GraphList(5, directed=False)\n",
    "g.add_edge(0, 1)\n",
    "g.add_edge(0, 2)\n",
    "g.add_edge(1, 2)\n",
    "g.add_edge(2, 3)"
   ]
  },
  {
   "cell_type": "code",
   "execution_count": 12,
   "metadata": {},
   "outputs": [
    {
     "name": "stdout",
     "output_type": "stream",
     "text": [
      "0 : [1, 2]\n",
      "1 : [0, 2]\n",
      "2 : [0, 1, 3]\n",
      "3 : [2]\n",
      "4 : []\n"
     ]
    }
   ],
   "source": [
    "g.print_graph()"
   ]
  },
  {
   "cell_type": "code",
   "execution_count": null,
   "metadata": {},
   "outputs": [],
   "source": []
  },
  {
   "cell_type": "markdown",
   "metadata": {},
   "source": [
    "## test for loop"
   ]
  },
  {
   "cell_type": "code",
   "execution_count": 13,
   "metadata": {},
   "outputs": [
    {
     "name": "stdout",
     "output_type": "stream",
     "text": [
      "0 : [1, 3, 0, 0]\n",
      "1 : [0, 2, 3]\n",
      "2 : [1, 3]\n",
      "3 : [2, 0, 1]\n"
     ]
    }
   ],
   "source": [
    "h = GraphList(4)\n",
    "h.add_edge(0, 1)\n",
    "h.add_edge(1, 2)\n",
    "h.add_edge(2, 3)\n",
    "h.add_edge(3, 0)\n",
    "h.add_edge(1, 3)\n",
    "h.add_edge(0, 0)\n",
    "\n",
    "h.print_graph()"
   ]
  },
  {
   "cell_type": "code",
   "execution_count": 14,
   "metadata": {},
   "outputs": [
    {
     "data": {
      "text/plain": [
       "[(0, 1), (0, 3), (0, 0), (1, 2), (1, 3), (2, 3)]"
      ]
     },
     "execution_count": 14,
     "metadata": {},
     "output_type": "execute_result"
    }
   ],
   "source": [
    "h.get_edge_list()"
   ]
  },
  {
   "cell_type": "markdown",
   "metadata": {},
   "source": [
    "## Recursice DFS"
   ]
  },
  {
   "cell_type": "code",
   "execution_count": 15,
   "metadata": {},
   "outputs": [],
   "source": [
    "def dfs_recursive(graph, start, process=lambda x: print(x)):\n",
    "    def dfs_util(node, visited):\n",
    "        if node not in visited:\n",
    "            process(node)  # Process the node (e.g., print it)\n",
    "            visited.add(node)\n",
    "            for neighbor in graph.graph[node]:\n",
    "                dfs_util(neighbor, visited)\n",
    "\n",
    "    visited = set()\n",
    "    dfs_util(start, visited)"
   ]
  },
  {
   "cell_type": "code",
   "execution_count": 16,
   "metadata": {},
   "outputs": [
    {
     "name": "stdout",
     "output_type": "stream",
     "text": [
      "4\n",
      "0\n",
      "2\n",
      "6\n"
     ]
    }
   ],
   "source": [
    "dfs_recursive(g, 2, process=lambda x: print(2*x))"
   ]
  },
  {
   "cell_type": "code",
   "execution_count": 17,
   "metadata": {},
   "outputs": [
    {
     "name": "stdout",
     "output_type": "stream",
     "text": [
      "2\n",
      "0\n",
      "1\n",
      "3\n"
     ]
    }
   ],
   "source": [
    "dfs_recursive(g, 2, print)"
   ]
  },
  {
   "cell_type": "markdown",
   "metadata": {},
   "source": [
    "## Iterative DFS"
   ]
  },
  {
   "cell_type": "code",
   "execution_count": 18,
   "metadata": {},
   "outputs": [],
   "source": [
    "def dfs_iterative(graph, start, process=lambda x: print(x)):\n",
    "    visited = set()\n",
    "    stack = [start]\n",
    "    while stack:\n",
    "        node = stack.pop()\n",
    "        if node not in visited:\n",
    "            process(node)\n",
    "            visited.add(node)\n",
    "            stack.extend([neighbor for neighbor in graph.graph[node] if neighbor not in visited])"
   ]
  },
  {
   "cell_type": "code",
   "execution_count": 19,
   "metadata": {},
   "outputs": [
    {
     "name": "stdout",
     "output_type": "stream",
     "text": [
      "2\n",
      "3\n",
      "1\n",
      "0\n"
     ]
    }
   ],
   "source": [
    "dfs_iterative(g, 2, print)"
   ]
  },
  {
   "cell_type": "markdown",
   "metadata": {},
   "source": [
    "## BFS Recursive"
   ]
  },
  {
   "cell_type": "code",
   "execution_count": 20,
   "metadata": {},
   "outputs": [],
   "source": [
    "def bfs_recursive(graph, start, process=lambda x: print(x)):\n",
    "    def bfs_util(queue, visited):\n",
    "        # Base case: if the queue is empty, return\n",
    "        if not queue:\n",
    "            return\n",
    "        \n",
    "        # Process the node at the front of the queue\n",
    "        node = queue.pop(0)\n",
    "        if node not in visited:\n",
    "            process(node)\n",
    "            visited.add(node)\n",
    "            queue.extend([neighbor for neighbor in graph.graph[node] if neighbor not in visited])\n",
    "        bfs_util(queue, visited)\n",
    "\n",
    "    visited = set()\n",
    "    bfs_util([start], visited)"
   ]
  },
  {
   "cell_type": "code",
   "execution_count": 21,
   "metadata": {},
   "outputs": [
    {
     "name": "stdout",
     "output_type": "stream",
     "text": [
      "2\n",
      "0\n",
      "1\n",
      "3\n"
     ]
    }
   ],
   "source": [
    "bfs_recursive(g, 2, print)"
   ]
  }
 ],
 "metadata": {
  "kernelspec": {
   "display_name": "Python 3",
   "language": "python",
   "name": "python3"
  },
  "language_info": {
   "codemirror_mode": {
    "name": "ipython",
    "version": 3
   },
   "file_extension": ".py",
   "mimetype": "text/x-python",
   "name": "python",
   "nbconvert_exporter": "python",
   "pygments_lexer": "ipython3",
   "version": "3.12.2"
  }
 },
 "nbformat": 4,
 "nbformat_minor": 2
}
