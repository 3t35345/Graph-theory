{
 "cells": [
  {
   "cell_type": "code",
   "execution_count": 20,
   "metadata": {},
   "outputs": [],
   "source": [
    "from pyvis.network import Network"
   ]
  },
  {
   "cell_type": "code",
   "execution_count": 21,
   "metadata": {},
   "outputs": [],
   "source": [
    "net = Network(directed=True)\n",
    "net.add_node(0, label='Node 0')\n",
    "net.add_node(1, label='Node 1')\n",
    "net.add_edge(0, 1)"
   ]
  },
  {
   "cell_type": "code",
   "execution_count": 22,
   "metadata": {},
   "outputs": [
    {
     "name": "stdout",
     "output_type": "stream",
     "text": [
      "basic.html\n"
     ]
    }
   ],
   "source": [
    "net.show(\"basic.html\", notebook=False)"
   ]
  },
  {
   "cell_type": "code",
   "execution_count": 26,
   "metadata": {},
   "outputs": [],
   "source": [
    "graph = Network()\n",
    "graph.add_node('A', label='A')\n",
    "graph.add_node('B', label='B')\n",
    "graph.add_node('C', label='C')\n",
    "graph.add_node('D', label='D')\n",
    "\n",
    "graph.add_edge('A', 'B', label='A-B-1')\n",
    "graph.add_edge(\"A\", \"B\", label=\"A-B-2\")\n",
    "graph.add_edge(\"A\", \"C\", label=\"A-C-1\")\n",
    "graph.add_edge(\"A\", \"C\", label=\"A-C-2\")\n",
    "graph.add_edge(\"A\", \"D\", label=\"A-D\")\n",
    "graph.add_edge(\"B\", \"D\", label=\"B-D\")\n",
    "graph.add_edge(\"C\", \"D\", label=\"C-D\")"
   ]
  },
  {
   "cell_type": "code",
   "execution_count": 27,
   "metadata": {},
   "outputs": [
    {
     "name": "stdout",
     "output_type": "stream",
     "text": [
      "graph_example.html\n"
     ]
    }
   ],
   "source": [
    "graph.show(\"graph_example.html\", notebook=False)"
   ]
  }
 ],
 "metadata": {
  "kernelspec": {
   "display_name": "Python 3",
   "language": "python",
   "name": "python3"
  },
  "language_info": {
   "codemirror_mode": {
    "name": "ipython",
    "version": 3
   },
   "file_extension": ".py",
   "mimetype": "text/x-python",
   "name": "python",
   "nbconvert_exporter": "python",
   "pygments_lexer": "ipython3",
   "version": "3.12.2"
  }
 },
 "nbformat": 4,
 "nbformat_minor": 2
}
